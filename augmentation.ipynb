{
  "cells": [
    {
      "cell_type": "code",
      "metadata": {},
      "source": [
        "# coding=utf8\n",
        "#\n",
        "# super resolution from\n",
        "# http://www.cv-foundation.org/openaccess/content_cvpr_2016/html/Kim_Deeply-Recursive_Convolutional_Network_CVPR_2016_paper.html\n",
        "#\n",
        "\n",
        "import os\n",
        "import numpy as np\n",
        "\n",
        "\n",
        "import super_resolution_utilty as util\n",
        "\n",
        "print(\"Data Augmentation For Training Data\")\n",
        "\n",
        "training_filenames = util.get_files_in_directory(\"data/ScSR/\")\n",
        "augmented_directory =\"data/ScSR2/\"\n",
        "util.make_dir(augmented_directory)\n",
        "\n",
        "for file_path in training_filenames:\n",
        "  org_image = util.load_image(file_path)\n",
        "\n",
        "  _, filename = os.path.split(file_path)\n",
        "  filename, extension = os.path.splitext(filename)\n",
        "  \n",
        "  util.save_image(augmented_directory+filename + extension, org_image)\n",
        "  ud_image = np.flipud(org_image)\n",
        "  util.save_image(augmented_directory+filename + \"_v\" + extension, ud_image)\n",
        "  lr_image = np.fliplr(org_image)\n",
        "  util.save_image(augmented_directory+filename + \"_h\" + extension, lr_image)\n",
        "  lrud_image = np.flipud(lr_image)\n",
        "  util.save_image(augmented_directory+filename + \"_hv\" + extension, lrud_image)\n",
        "\n",
        "print(\"\\nFinished.\")\n"
      ],
      "outputs": [],
      "execution_count": null
    }
  ],
  "metadata": {
    "anaconda-cloud": {},
    "kernelspec": {
      "display_name": "Python 3",
      "language": "python",
      "name": "python3"
    },
    "language_info": {
      "codemirror_mode": {
        "name": "ipython",
        "version": 3
      },
      "file_extension": ".py",
      "mimetype": "text/x-python",
      "name": "python",
      "nbconvert_exporter": "python",
      "pygments_lexer": "ipython3",
      "version": "3.6.1"
    }
  },
  "nbformat": 4,
  "nbformat_minor": 4
}